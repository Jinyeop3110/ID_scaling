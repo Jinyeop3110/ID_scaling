{
 "cells": [
  {
   "cell_type": "code",
   "execution_count": null,
   "metadata": {},
   "outputs": [],
   "source": [
    "   #main(\"test3\", model_name='pythia-70m-deduped', model_checkpoint='main', dataset_name='pile_uncopyrighted_parquet_test', dataset_subset=[0], tokens_min_length=1024*10, use_accelerator=False)"
   ]
  },
  {
   "cell_type": "code",
   "execution_count": null,
   "metadata": {},
   "outputs": [],
   "source": [
    "    config = {\n",
    "        \"session_name\": \"test\",\n",
    "        \"session_path\": \"/data/test3\",\n",
    "        \"model_name\": 'llama3',\n",
    "        \"model_checkpoint\": \"main\",\n",
    "        \"use_accelerator\" : True,\n",
    "        \"dataset_name\": \"pile_uncopyrighted_parquet_test\",\n",
    "        \"dataloader_config\": {\"dataset_name\" : \"pile_uncopyrighted_parquet_test\",\n",
    "                           \"dataset_subset\" : [0],\n",
    "                           \"filtering_criteria\" : None,\n",
    "                           \"filtering_threshold\" : 1024}\n",
    "        \"ctx_len\": 1024,\n",
    "        \"batch_size\": 4,\n",
    "        \"pos_list\": None,  # Convert numpy array to list for better readability in logs\n",
    "        \"cache\": cache,\n",
    "        \"module_name_list\": module_name_list,\n",
    "        \"layer_idx_list\": layer_idx_list.tolist(),  # Convert numpy array to list\n",
    "        \"module_inblock_list\": module_inblock_list,\n",
    "        \"module_outblock_list\": module_outblock_list,\n",
    "        \"module_list\": module_list\n",
    "    }\n",
    "\n",
    "#update         #\"d_model\": model.config.hidden_size,\n"
   ]
  }
 ],
 "metadata": {
  "kernelspec": {
   "display_name": "Python 3",
   "language": "python",
   "name": "python3"
  },
  "language_info": {
   "name": "python",
   "version": "3.9.16"
  }
 },
 "nbformat": 4,
 "nbformat_minor": 2
}
